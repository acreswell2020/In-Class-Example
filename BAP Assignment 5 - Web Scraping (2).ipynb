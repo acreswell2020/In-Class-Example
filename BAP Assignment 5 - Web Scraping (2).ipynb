{
 "cells": [
  {
   "cell_type": "markdown",
   "metadata": {},
   "source": [
    "# Assignment 5\n",
    "The following assignment relies heavily on the content covered in the week 5 notes.  Many of the operations you are asked to do here resemble those we went over in class.  Please make sure to reference lesson 5.1 and especially lesson 5.2 notes to guide you through these exercises.  You will need to examine the page:  https://www.marketwatch.com/investing/stock/aapl to understand the structure (tags, classes).  \n",
    "#### Documentation\n",
    "[requests library](http://docs.python-requests.org/en/master/)  \n",
    "[beautifulsoup library](https://www.crummy.com/software/BeautifulSoup/bs4/doc/)  "
   ]
  },
  {
   "cell_type": "markdown",
   "metadata": {},
   "source": [
    "### Problem 1\n",
    "The following is a method we can use to open a file called data_file.txt. "
   ]
  },
  {
   "cell_type": "markdown",
   "metadata": {},
   "source": [
    "a. Turn the following code into a try and except block printing our an informative message when the file doesn't open (which it won't).\n",
    "```\n",
    "with open('data_file.txt') as data:\n",
    "    read_data = data.read()\n",
    "```"
   ]
  },
  {
   "cell_type": "code",
   "execution_count": 1,
   "metadata": {},
   "outputs": [
    {
     "name": "stdout",
     "output_type": "stream",
     "text": [
      "Could not open data_file.txt\n"
     ]
    }
   ],
   "source": [
    "# code here\n",
    "try:\n",
    "    with open('data_file.txt') as data:\n",
    "        read_data = data.read()\n",
    "except:\n",
    "    print('Could not open data_file.txt')\n",
    "    \n",
    "# returns: Could not open data_file.txt"
   ]
  },
  {
   "cell_type": "markdown",
   "metadata": {},
   "source": [
    "b.  Briefly desribe the importance of handling exceptions in programming. "
   ]
  },
  {
   "cell_type": "markdown",
   "metadata": {},
   "source": [
    "Answer:  "
   ]
  },
  {
   "cell_type": "markdown",
   "metadata": {},
   "source": [
    "The rest of this assignment will rely on the following libraries.  You will need to import them again as part of your functions. "
   ]
  },
  {
   "cell_type": "code",
   "execution_count": 2,
   "metadata": {},
   "outputs": [],
   "source": [
    "#Packages\n",
    "#Web scraping packages\n",
    "from bs4 import BeautifulSoup\n",
    "import requests\n",
    "#Pandas for data manipulation\n",
    "import pandas as pd"
   ]
  },
  {
   "cell_type": "markdown",
   "metadata": {},
   "source": [
    "### Problem 2\n",
    "This problem is all about web-scraping with requests and BeautifulSoup.  "
   ]
  },
  {
   "cell_type": "markdown",
   "metadata": {},
   "source": [
    "a.  Run a get request to url=\"https://www.marketwatch.com/investing/stock/\"+\"aapl\" and store the object returned as 'response'.  If the status code is not 200, print \"request not successful\"."
   ]
  },
  {
   "cell_type": "code",
   "execution_count": 3,
   "metadata": {},
   "outputs": [
    {
     "name": "stdout",
     "output_type": "stream",
     "text": [
      "https://www.marketwatch.com/investing/stock/aapl\n"
     ]
    }
   ],
   "source": [
    "# Define the url\n",
    "url=\"https://www.marketwatch.com/investing/stock/\"+\"aapl\"\n",
    "# create the response from the get request\n",
    "response=requests.get(url)\n",
    "\n",
    "if not response.status_code == 200:\n",
    "    print(\"request was not successful\")\n",
    "else:\n",
    "    print(url)\n",
    "\n"
   ]
  },
  {
   "cell_type": "markdown",
   "metadata": {},
   "source": [
    "b.  Referencing the above response, create BeautifulSoup object called \"results_page\" parsed with 'lxml'."
   ]
  },
  {
   "cell_type": "code",
   "execution_count": 4,
   "metadata": {},
   "outputs": [],
   "source": [
    "# build the BeautifulSoup object and name it results_page\n",
    "\n",
    "results_page = BeautifulSoup(response.content,'lxml')"
   ]
  },
  {
   "cell_type": "markdown",
   "metadata": {},
   "source": [
    "c.  On the webpage:  https://www.marketwatch.com/investing/stock/aapl, for the section called \"Key Data\". Inspect the page and verify that the tag/class combination that uniquely identifies each of the items in this table is 'li'/'kv_item'.  Find all elements identified by a tag of 'li' and a class_='kv_item'.  "
   ]
  },
  {
   "cell_type": "code",
   "execution_count": 6,
   "metadata": {},
   "outputs": [
    {
     "name": "stdout",
     "output_type": "stream",
     "text": [
      "<class 'bs4.element.ResultSet'>\n",
      "[<li class=\"kv__item\">\n",
      "<small class=\"kv__label\">Open</small>\n",
      "<span class=\"kv__value kv__primary\">$257.33</span>\n",
      "<span class=\"kv__value kv__secondary no-value\"></span>\n",
      "</li>, <li class=\"kv__item\">\n",
      "<small class=\"kv__label\">Day Range</small>\n",
      "<span class=\"kv__value kv__primary\">255.38 - 257.79</span>\n",
      "<span class=\"kv__value kv__secondary no-value\"></span>\n",
      "</li>, <li class=\"kv__item\">\n",
      "<small class=\"kv__label\">52 Week Range</small>\n",
      "<span class=\"kv__value kv__primary\">142.00 - 257.79</span>\n",
      "<span class=\"kv__value kv__secondary no-value\"></span>\n",
      "</li>, <li class=\"kv__item\">\n",
      "<small class=\"kv__label\">Market Cap</small>\n",
      "<span class=\"kv__value kv__primary\">$1.14T</span>\n",
      "<span class=\"kv__value kv__secondary no-value\"></span>\n",
      "</li>, <li class=\"kv__item\">\n",
      "<small class=\"kv__label\">Shares Outstanding</small>\n",
      "<span class=\"kv__value kv__primary\">4.6B</span>\n",
      "<span class=\"kv__value kv__secondary no-value\"></span>\n",
      "</li>, <li class=\"kv__item\">\n",
      "<small class=\"kv__label\">Public Float</small>\n",
      "<span class=\"kv__value kv__primary\">4.44B</span>\n",
      "<span class=\"kv__value kv__secondary no-value\"></span>\n",
      "</li>, <li class=\"kv__item\">\n",
      "<small class=\"kv__label\">Beta</small>\n",
      "<span class=\"kv__value kv__primary\">1.24</span>\n",
      "<span class=\"kv__value kv__secondary no-value\"></span>\n",
      "</li>, <li class=\"kv__item\">\n",
      "<small class=\"kv__label\">Rev. per Employee</small>\n",
      "<span class=\"kv__value kv__primary\">$1.98M</span>\n",
      "<span class=\"kv__value kv__secondary no-value\"></span>\n",
      "</li>, <li class=\"kv__item\">\n",
      "<small class=\"kv__label\">P/E Ratio</small>\n",
      "<span class=\"kv__value kv__primary\">21.62</span>\n",
      "<span class=\"kv__value kv__secondary no-value\"></span>\n",
      "</li>, <li class=\"kv__item\">\n",
      "<small class=\"kv__label\">EPS</small>\n",
      "<span class=\"kv__value kv__primary\">$11.85</span>\n",
      "<span class=\"kv__value kv__secondary no-value\"></span>\n",
      "</li>, <li class=\"kv__item\">\n",
      "<small class=\"kv__label\">Yield</small>\n",
      "<span class=\"kv__value kv__primary\">1.20%</span>\n",
      "<span class=\"kv__value kv__secondary no-value\"></span>\n",
      "</li>, <li class=\"kv__item\">\n",
      "<small class=\"kv__label\">Dividend</small>\n",
      "<span class=\"kv__value kv__primary\">$0.77</span>\n",
      "<span class=\"kv__value kv__secondary no-value\"></span>\n",
      "</li>, <li class=\"kv__item\">\n",
      "<small class=\"kv__label\">Ex-Dividend Date</small>\n",
      "<span class=\"kv__value kv__primary\">Nov 7, 2019</span>\n",
      "<span class=\"kv__value kv__secondary no-value\"></span>\n",
      "</li>, <li class=\"kv__item\">\n",
      "<small class=\"kv__label\">Short Interest</small>\n",
      "<span class=\"kv__value kv__primary\">48.02M</span>\n",
      "<span class=\"kv__value kv__secondary\">10/15/19</span>\n",
      "</li>, <li class=\"kv__item\">\n",
      "<small class=\"kv__label\">% of Float Shorted</small>\n",
      "<span class=\"kv__value kv__primary\">1.08%</span>\n",
      "<span class=\"kv__value kv__secondary no-value\"></span>\n",
      "</li>, <li class=\"kv__item\">\n",
      "<small class=\"kv__label\">Average Volume</small>\n",
      "<span class=\"kv__value kv__primary\">27.64M</span>\n",
      "<span class=\"kv__value kv__secondary no-value\"></span>\n",
      "</li>]\n"
     ]
    }
   ],
   "source": [
    "# find all elements with the tag \"li\" and class_=\"kv__item\"\n",
    "key_data = results_page.find_all('li',class_=\"kv__item\")\n",
    "\n",
    "# print the data type for the kv_data object\n",
    "\n",
    "print(type(key_data))\n",
    "print(key_data)"
   ]
  },
  {
   "cell_type": "markdown",
   "metadata": {},
   "source": [
    "d. The code to answer the above question should have returned a list.  Print the first item in this list.  You should get:\n",
    "```\n",
    "<li class=\"kv__item\">\n",
    "<small class=\"kv__label\">Open</small>\n",
    "<span class=\"kv__value kv__primary \">$188.75</span>\n",
    "<span class=\"kv__value kv__secondary no-value\"></span>\n",
    "</li>\n",
    "```"
   ]
  },
  {
   "cell_type": "code",
   "execution_count": 8,
   "metadata": {},
   "outputs": [
    {
     "name": "stdout",
     "output_type": "stream",
     "text": [
      "<li class=\"kv__item\">\n",
      "<small class=\"kv__label\">Open</small>\n",
      "<span class=\"kv__value kv__primary\">$257.33</span>\n",
      "<span class=\"kv__value kv__secondary no-value\"></span>\n",
      "</li>\n"
     ]
    }
   ],
   "source": [
    "# print the first item in the list you generated above\n",
    "\n",
    "x=key_data[0]\n",
    "print(x)"
   ]
  },
  {
   "cell_type": "markdown",
   "metadata": {},
   "source": [
    "From the object shown above, extract the label \"Open\" and the value \"$188.75\"\n",
    "\n",
    "Note:  values will differ."
   ]
  },
  {
   "cell_type": "code",
   "execution_count": 9,
   "metadata": {},
   "outputs": [
    {
     "name": "stdout",
     "output_type": "stream",
     "text": [
      "Open\n",
      "$257.33\n"
     ]
    }
   ],
   "source": [
    "# extract the label \n",
    "\n",
    "label=key_data[0].find('small', class_=\"kv__label\").get_text()\n",
    "\n",
    "# extract the value\n",
    "\n",
    "value=key_data[0].find('span',class_=\"kv__primary\").get_text()\n",
    "\n",
    "# print the results\n",
    "print(label)\n",
    "print(value)"
   ]
  },
  {
   "cell_type": "markdown",
   "metadata": {},
   "source": [
    "e.  We need to be able to extract the text for each of the items in the key_data object.  Write a for loop to extract the label and primary value creating a list of the form [(label, value), (label,value),...]"
   ]
  },
  {
   "cell_type": "code",
   "execution_count": 19,
   "metadata": {},
   "outputs": [
    {
     "ename": "AttributeError",
     "evalue": "'NoneType' object has no attribute 'get_text'",
     "output_type": "error",
     "traceback": [
      "\u001b[0;31m---------------------------------------------------------------------------\u001b[0m",
      "\u001b[0;31mAttributeError\u001b[0m                            Traceback (most recent call last)",
      "\u001b[0;32m<ipython-input-19-8b322d27c847>\u001b[0m in \u001b[0;36m<module>\u001b[0;34m\u001b[0m\n\u001b[1;32m      5\u001b[0m \u001b[0;34m\u001b[0m\u001b[0m\n\u001b[1;32m      6\u001b[0m \u001b[0;32mfor\u001b[0m \u001b[0mkv_item\u001b[0m \u001b[0;32min\u001b[0m \u001b[0mkey_data\u001b[0m\u001b[0;34m:\u001b[0m\u001b[0;34m\u001b[0m\u001b[0;34m\u001b[0m\u001b[0m\n\u001b[0;32m----> 7\u001b[0;31m     \u001b[0mlabel\u001b[0m\u001b[0;34m=\u001b[0m\u001b[0mkv_item\u001b[0m\u001b[0;34m.\u001b[0m\u001b[0mfind\u001b[0m\u001b[0;34m(\u001b[0m\u001b[0;34m'small'\u001b[0m\u001b[0;34m,\u001b[0m \u001b[0mclass_\u001b[0m\u001b[0;34m=\u001b[0m\u001b[0;34m\"kv_label\"\u001b[0m\u001b[0;34m)\u001b[0m\u001b[0;34m.\u001b[0m\u001b[0mget_text\u001b[0m\u001b[0;34m(\u001b[0m\u001b[0;34m)\u001b[0m\u001b[0;34m\u001b[0m\u001b[0;34m\u001b[0m\u001b[0m\n\u001b[0m\u001b[1;32m      8\u001b[0m     \u001b[0mvalue\u001b[0m\u001b[0;34m=\u001b[0m\u001b[0mkv_item\u001b[0m\u001b[0;34m.\u001b[0m\u001b[0mfind\u001b[0m\u001b[0;34m(\u001b[0m\u001b[0;34m'span'\u001b[0m\u001b[0;34m,\u001b[0m\u001b[0mclass_\u001b[0m\u001b[0;34m=\u001b[0m\u001b[0;34m\"kv_primary\"\u001b[0m\u001b[0;34m)\u001b[0m\u001b[0;34m.\u001b[0m\u001b[0mget_text\u001b[0m\u001b[0;34m(\u001b[0m\u001b[0;34m)\u001b[0m\u001b[0;34m\u001b[0m\u001b[0;34m\u001b[0m\u001b[0m\n\u001b[1;32m      9\u001b[0m     \u001b[0mx\u001b[0m\u001b[0;34m.\u001b[0m\u001b[0mappend\u001b[0m\u001b[0;34m(\u001b[0m\u001b[0;34m(\u001b[0m\u001b[0mlabel\u001b[0m\u001b[0;34m,\u001b[0m\u001b[0mvalue\u001b[0m\u001b[0;34m)\u001b[0m\u001b[0;34m)\u001b[0m\u001b[0;34m\u001b[0m\u001b[0;34m\u001b[0m\u001b[0m\n",
      "\u001b[0;31mAttributeError\u001b[0m: 'NoneType' object has no attribute 'get_text'"
     ]
    }
   ],
   "source": [
    "import requests\n",
    "from bs4 import BeautifulSoup\n",
    "\n",
    "\n",
    "def pull_active(url):\n",
    "    # your code\n",
    "    response=requests.get(url)\n",
    "    results_page=BeautifulSoup(response.content,'lxml')\n",
    "    \n",
    "# initialize an empty list\n",
    "x=[]\n",
    "# loop over the items obtained in the key_data object extracting the label and value from each\n",
    "\n",
    "for kv_item in key_data:\n",
    "    label=kv_item.find('small', class_=\"kv_label\").get_text()\n",
    "    value=kv_item.find('span',class_=\"kv_primary\").get_text()\n",
    "    x.append((label,value))\n",
    "\n",
    "# print the result\n",
    "print(x)"
   ]
  },
  {
   "cell_type": "code",
   "execution_count": 21,
   "metadata": {},
   "outputs": [],
   "source": [
    "# import requests\n",
    "# from bs4 import BeautifulSoup\n",
    "\n",
    "# url='https://markets.on.nytimes.com/research/markets/overview/overview.asp'\n",
    "\n",
    "# def pull_active(url):\n",
    "#     # your code\n",
    "#     response=requests.get(url)\n",
    "#     results_page=BeautifulSoup(response.content,'lxml')\n",
    "#     data=results_page.find('header', class_='list list--kv list--col50')\n",
    "    \n",
    "    \n",
    "#     a=data.find('ul')\n",
    "    \n",
    "#     for i in a:\n",
    "#         y = []\n",
    "#         y.append(i.find('li',class_='kv_item').text)\n",
    "# #         y.append(i.find('li',class_='colPrimary').text)\n",
    "#         x.append(y)\n",
    "    \n",
    "#     print(x)\n",
    "   "
   ]
  },
  {
   "cell_type": "code",
   "execution_count": 11,
   "metadata": {},
   "outputs": [
    {
     "name": "stdout",
     "output_type": "stream",
     "text": [
      "[('Open', '$257.33'), ('Day Range', '255.38 - 257.79'), ('52 Week Range', '142.00 - 257.79'), ('Market Cap', '$1.14T'), ('Shares Outstanding', '4.6B'), ('Public Float', '4.44B'), ('Beta', '1.24'), ('Rev. per Employee', '$1.98M'), ('P/E Ratio', '21.62'), ('EPS', '$11.85'), ('Yield', '1.20%'), ('Dividend', '$0.77'), ('Ex-Dividend Date', 'Nov 7, 2019'), ('Short Interest', '48.02M'), ('% of Float Shorted', '1.08%'), ('Average Volume', '27.64M')]\n"
     ]
    }
   ],
   "source": [
    "kd_list=[]\n",
    "for kv_item in key_data:\n",
    "    label=kv_item.find('small', class_=\"kv__label\").get_text()\n",
    "    value=kv_item.find('span',class_=\"kv__primary\").get_text()\n",
    "    kd_list.append((label,value))\n",
    "print(kd_list)"
   ]
  },
  {
   "cell_type": "markdown",
   "metadata": {},
   "source": [
    "f. Optional Challenge:  \n",
    "\n",
    "Combine all of the above into a function that accepts a stock symbol as an argument and returns the list of (label, value) pairs.  "
   ]
  },
  {
   "cell_type": "code",
   "execution_count": null,
   "metadata": {},
   "outputs": [],
   "source": [
    "import requests\n",
    "from bs4 import BeautifulSoup\n",
    "\n",
    "url='https://markets.on.nytimes.com/research/markets/overview/overview.asp'\n",
    "\n",
    "def pull_active(url):\n",
    "    # your code\n",
    "    response=requests.get(url)\n",
    "    results_page=BeautifulSoup(response.content,'lxml')\n",
    "    data=results_page.find('header', class_='list list--kv list--col50')\n",
    "    \n",
    "    \n",
    "    a=data.find('ul')\n",
    "    \n",
    "    for i in a:\n",
    "        y = []\n",
    "        y.append(i.find('li',class_='kv_item').text)\n",
    "#         y.append(i.find('li',class_='colPrimary').text)\n",
    "        x.append(y)\n",
    "    \n",
    "#     print(x)"
   ]
  },
  {
   "cell_type": "markdown",
   "metadata": {},
   "source": [
    "Run the function"
   ]
  },
  {
   "cell_type": "code",
   "execution_count": null,
   "metadata": {},
   "outputs": [],
   "source": [
    "results = get_key_data(\"aapl\")"
   ]
  },
  {
   "cell_type": "markdown",
   "metadata": {},
   "source": [
    "g. Optional:\n",
    "\n",
    "Use pandas to create a dataframe from the data you extracted. "
   ]
  },
  {
   "cell_type": "code",
   "execution_count": null,
   "metadata": {},
   "outputs": [],
   "source": [
    "import pandas as pd\n",
    "pd.DataFrame(results)"
   ]
  }
 ],
 "metadata": {
  "kernelspec": {
   "display_name": "Python 3",
   "language": "python",
   "name": "python3"
  },
  "language_info": {
   "codemirror_mode": {
    "name": "ipython",
    "version": 3
   },
   "file_extension": ".py",
   "mimetype": "text/x-python",
   "name": "python",
   "nbconvert_exporter": "python",
   "pygments_lexer": "ipython3",
   "version": "3.7.3"
  }
 },
 "nbformat": 4,
 "nbformat_minor": 2
}
